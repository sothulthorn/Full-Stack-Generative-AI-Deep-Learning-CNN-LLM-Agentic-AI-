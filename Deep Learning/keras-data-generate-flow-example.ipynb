{
 "cells": [
  {
   "metadata": {},
   "cell_type": "code",
   "source": "from tensorflow.keras.preprocessing.image import ImageDataGenerator, array_to_img, img_to_array, load_img",
   "id": "f57d713408367581",
   "outputs": [],
   "execution_count": null
  },
  {
   "metadata": {},
   "cell_type": "code",
   "source": [
    "# load the image as PIL image\n",
    "cat_img = load_img('images/cat.jpg', color_mode='rgb', target_size=(200, 200))"
   ],
   "id": "388eead3de7e0bf8",
   "outputs": [],
   "execution_count": null
  },
  {
   "metadata": {},
   "cell_type": "code",
   "source": [
    "# convert PIL image to numpy array (height, width, n_channels)\n",
    "# shape will be (200, 200, 3)\n",
    "cat_img_array = img_to_array(cat_img)\n",
    "print(cat_img_array.shape)"
   ],
   "id": "428c2e5865a05b99",
   "outputs": [],
   "execution_count": null
  },
  {
   "metadata": {},
   "cell_type": "code",
   "source": [
    "# keras require 4D array with all sample images\n",
    "# convert numpy array to 4D (no_images, height, width, n_channel)\n",
    "cat_img_batch = cat_img_array.reshape((1,) + cat_img_array.shape)\n",
    "print(cat_img_batch.shape)"
   ],
   "id": "9390901f6eed1ef0",
   "outputs": [],
   "execution_count": null
  },
  {
   "metadata": {},
   "cell_type": "code",
   "source": [
    "# construct an instance of ImageGenerator class\n",
    "datagen = ImageDataGenerator(\n",
    "    rotation_range=40,\n",
    "    width_shift_range=0.2,\n",
    "    height_shift_range=0.2,\n",
    "    shear_range=0.2,\n",
    "    zoom_range=0.2,\n",
    "    brightness_range=[0.2, 2.0],\n",
    "    horizontal_flip=True,\n",
    "    fill_mode='nearest'\n",
    ")"
   ],
   "id": "b36e2be64fef7a1a",
   "outputs": [],
   "execution_count": null
  },
  {
   "metadata": {},
   "cell_type": "code",
   "source": [
    "import matplotlib.pyplot as plt\n",
    "\n",
    "# initializing the counter for break statement\n",
    "i = 0\n",
    "\n",
    "for batch in datagen.flow(cat_img_batch, batch_size=1, save_to_dir='dataset/cat_aug_images', save_prefix='cat', save_format='jpeg'):\n",
    "    # only if want to view the image inline in jupyter\n",
    "    # convert to unsigned integers\n",
    "    image = batch[0].astype('uint8')\n",
    "    plt.imshow(image)\n",
    "    plt.show()\n",
    "\n",
    "    i = i+1\n",
    "    if i > 50:\n",
    "        break # break the loop at the count of 50"
   ],
   "id": "ee792d8afb2d1cba",
   "outputs": [],
   "execution_count": null
  },
  {
   "metadata": {},
   "cell_type": "code",
   "source": "",
   "id": "7a99b2a5877e0731",
   "outputs": [],
   "execution_count": null
  }
 ],
 "metadata": {
  "kernelspec": {
   "display_name": "Python 3",
   "language": "python",
   "name": "python3"
  },
  "language_info": {
   "codemirror_mode": {
    "name": "ipython",
    "version": 2
   },
   "file_extension": ".py",
   "mimetype": "text/x-python",
   "name": "python",
   "nbconvert_exporter": "python",
   "pygments_lexer": "ipython2",
   "version": "2.7.6"
  }
 },
 "nbformat": 4,
 "nbformat_minor": 5
}

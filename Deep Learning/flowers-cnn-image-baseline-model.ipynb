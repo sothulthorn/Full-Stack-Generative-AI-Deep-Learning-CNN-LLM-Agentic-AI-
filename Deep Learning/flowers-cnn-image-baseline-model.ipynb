{
 "cells": [
  {
   "cell_type": "code",
   "id": "initial_id",
   "metadata": {
    "collapsed": true,
    "ExecuteTime": {
     "end_time": "2025-09-09T14:46:58.625598Z",
     "start_time": "2025-09-09T14:46:56.437876Z"
    }
   },
   "source": [
    "from tensorflow import keras\n",
    "from tensorflow.keras import layers\n",
    "from tensorflow.keras.preprocessing.image import ImageDataGenerator"
   ],
   "outputs": [],
   "execution_count": 2
  },
  {
   "metadata": {
    "ExecuteTime": {
     "end_time": "2025-09-09T14:46:59.712950Z",
     "start_time": "2025-09-09T14:46:59.708812Z"
    }
   },
   "cell_type": "code",
   "source": [
    "# construct an instance of ImageGenerator class\n",
    "train_datagen = ImageDataGenerator(rescale=1)\n",
    "test_datagen = ImageDataGenerator(rescale=1)"
   ],
   "id": "48db236296c882f",
   "outputs": [],
   "execution_count": 3
  },
  {
   "metadata": {
    "ExecuteTime": {
     "end_time": "2025-09-09T14:47:01.825066Z",
     "start_time": "2025-09-09T14:47:01.820486Z"
    }
   },
   "cell_type": "code",
   "source": [
    "# defining the sequential model for multiclass classification\n",
    "model = keras.Sequential()"
   ],
   "id": "ae3da12187546d4f",
   "outputs": [],
   "execution_count": 4
  },
  {
   "metadata": {
    "ExecuteTime": {
     "end_time": "2025-09-09T14:47:04.585934Z",
     "start_time": "2025-09-09T14:47:04.455731Z"
    }
   },
   "cell_type": "code",
   "source": [
    "# defining the CNN layers\n",
    "model.add(layers.Conv2D(32, (3, 3), activation='relu', input_shape=(100, 100, 3)))\n",
    "model.add(layers.MaxPool2D((2, 2)))\n",
    "\n",
    "model.add(layers.Conv2D(64, (3, 3), activation='relu'))\n",
    "model.add(layers.MaxPool2D((2, 2)))\n",
    "\n",
    "model.add(layers.Conv2D(128, (3, 3), activation='relu'))\n",
    "model.add(layers.MaxPool2D((2, 2)))\n",
    "\n",
    "model.add(layers.Flatten())\n",
    "\n",
    "model.add(layers.Dense(512, activation='relu'))\n",
    "model.add(layers.Dense(5, activation='softmax'))"
   ],
   "id": "d57ff494aaf87207",
   "outputs": [
    {
     "name": "stderr",
     "output_type": "stream",
     "text": [
      "/opt/anaconda3/envs/fullstackai/lib/python3.12/site-packages/keras/src/layers/convolutional/base_conv.py:113: UserWarning: Do not pass an `input_shape`/`input_dim` argument to a layer. When using Sequential models, prefer using an `Input(shape)` object as the first layer in the model instead.\n",
      "  super().__init__(activity_regularizer=activity_regularizer, **kwargs)\n"
     ]
    }
   ],
   "execution_count": 5
  },
  {
   "metadata": {
    "ExecuteTime": {
     "end_time": "2025-09-09T14:47:07.342546Z",
     "start_time": "2025-09-09T14:47:07.209529Z"
    }
   },
   "cell_type": "code",
   "source": [
    "# prepare iterators\n",
    "train_iterator = train_datagen.flow_from_directory('dataset/flowers/train', target_size=(100, 100), batch_size=32)\n",
    "test_iterator = test_datagen.flow_from_directory('dataset/flowers/test', target_size=(100, 100), batch_size=32)"
   ],
   "id": "43afe031207af55e",
   "outputs": [
    {
     "name": "stdout",
     "output_type": "stream",
     "text": [
      "Found 3140 images belonging to 5 classes.\n",
      "Found 1228 images belonging to 5 classes.\n"
     ]
    }
   ],
   "execution_count": 6
  },
  {
   "metadata": {
    "jupyter": {
     "is_executing": true
    },
    "ExecuteTime": {
     "start_time": "2025-09-09T14:47:09.994001Z"
    }
   },
   "cell_type": "code",
   "source": [
    "# compile and fit the model\n",
    "model.compile(loss='categorical_crossentropy', metrics=['accuracy'], optimizer='adam')\n",
    "history = model.fit(train_iterator, validation_data=test_iterator, epochs=5)"
   ],
   "id": "4b75030e40d29de9",
   "outputs": [
    {
     "name": "stdout",
     "output_type": "stream",
     "text": [
      "Epoch 1/5\n"
     ]
    },
    {
     "name": "stderr",
     "output_type": "stream",
     "text": [
      "/opt/anaconda3/envs/fullstackai/lib/python3.12/site-packages/keras/src/trainers/data_adapters/py_dataset_adapter.py:121: UserWarning: Your `PyDataset` class should call `super().__init__(**kwargs)` in its constructor. `**kwargs` can include `workers`, `use_multiprocessing`, `max_queue_size`. Do not pass these arguments to `fit()`, as they will be ignored.\n",
      "  self._warn_if_super_not_called()\n"
     ]
    }
   ],
   "execution_count": null
  },
  {
   "metadata": {},
   "cell_type": "code",
   "outputs": [],
   "execution_count": null,
   "source": "",
   "id": "c39a003d027b6bf6"
  }
 ],
 "metadata": {
  "kernelspec": {
   "display_name": "Python 3",
   "language": "python",
   "name": "python3"
  },
  "language_info": {
   "codemirror_mode": {
    "name": "ipython",
    "version": 2
   },
   "file_extension": ".py",
   "mimetype": "text/x-python",
   "name": "python",
   "nbconvert_exporter": "python",
   "pygments_lexer": "ipython2",
   "version": "2.7.6"
  }
 },
 "nbformat": 4,
 "nbformat_minor": 5
}
